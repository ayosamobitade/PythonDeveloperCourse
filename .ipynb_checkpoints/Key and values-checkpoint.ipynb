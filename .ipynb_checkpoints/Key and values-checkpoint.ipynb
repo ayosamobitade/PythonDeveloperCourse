{
 "cells": [
  {
   "cell_type": "code",
   "execution_count": 7,
   "metadata": {
    "scrolled": true
   },
   "outputs": [
    {
     "name": "stdout",
     "output_type": "stream",
     "text": [
      "name Sade Adenike\n",
      "age 29\n",
      "occupation teaching\n",
      "Sade Adenike\n",
      "29\n",
      "teaching\n",
      "name\n",
      "age\n",
      "occupation\n",
      "name Sade Adenike\n",
      "age 29\n",
      "occupation teaching\n"
     ]
    }
   ],
   "source": [
    "# practicing the use of keys and values\n",
    "\n",
    "user = {\n",
    "    \"name\":\"Sade Adenike\",\n",
    "    \"age\":29,\n",
    "    \"occupation\":\"teaching\"\n",
    "}\n",
    "\n",
    "for key, value in user.items():\n",
    "    print(key, value)\n",
    "    \n",
    "for values in user.values():\n",
    "    print(values)\n",
    "    \n",
    "for keys in user.keys():\n",
    "    print(keys)\n",
    "    \n",
    "# unbundling the user.item\n",
    "\n",
    "for items in user.items():\n",
    "    k, v = items\n",
    "    print(k,v)"
   ]
  },
  {
   "cell_type": "code",
   "execution_count": 27,
   "metadata": {},
   "outputs": [
    {
     "name": "stdout",
     "output_type": "stream",
     "text": [
      "attacking...\n",
      "You now have 19 arrows\n",
      "attacking...\n",
      "You now have 18 arrows\n",
      "attacking...\n",
      "You now have 17 arrows\n"
     ]
    }
   ],
   "source": [
    "# learnng to use decorator\n",
    "\n",
    "class killer:\n",
    "    def __init__(self, name, email, num_arrow, power):\n",
    "        self.name = name\n",
    "        self.email = email\n",
    "        self.num_arrow = num_arrow\n",
    "        self.power = power\n",
    "    \n",
    "    def attack(self):\n",
    "        print(\"attacking...\")\n",
    "        \n",
    "        nrrow_remain = int(self.num_arrow) - 1\n",
    "        print(f\"You now have {nrrow_remain} arrows\")\n",
    "        self.num_arrow = nrrow_remain\n",
    "        \n",
    "        \n",
    "sam = killer('samuel', 'ayosamobitade', 20, 100)\n",
    "\n",
    "sam.attack()\n",
    "sam.attack()\n",
    "sam.attack()"
   ]
  },
  {
   "cell_type": "code",
   "execution_count": 11,
   "metadata": {},
   "outputs": [
    {
     "name": "stdout",
     "output_type": "stream",
     "text": [
      "attacking...\n",
      "Dear ayosamobitade@gmail.com you now have 19 arrows\n",
      "attacking...\n",
      "Dear ayosamobitade@gmail.com you now have 18 arrows\n",
      "attacking...\n",
      "Dear ayosamobitade@gmail.com you now have 17 arrows\n",
      "['__class__', '__delattr__', '__dict__', '__dir__', '__doc__', '__eq__', '__format__', '__ge__', '__getattribute__', '__gt__', '__hash__', '__init__', '__init_subclass__', '__le__', '__lt__', '__module__', '__ne__', '__new__', '__reduce__', '__reduce_ex__', '__repr__', '__setattr__', '__sizeof__', '__str__', '__subclasshook__', '__weakref__', 'attack', 'email', 'name', 'num_arrow', 'power']\n"
     ]
    }
   ],
   "source": [
    "# user inherited class\n",
    "\n",
    "class user:\n",
    "    def __init__(self, email):\n",
    "        self.email = email\n",
    "        \n",
    "class warrior(user):\n",
    "    def __init__(self, name, email, num_arrow, power):\n",
    "        self.name = name\n",
    "        #super().__init__(email)\n",
    "        user.__init__(self, email)\n",
    "        self.num_arrow = num_arrow\n",
    "        self.power = power\n",
    "    \n",
    "    def attack(self):\n",
    "        print(\"attacking...\")\n",
    "        \n",
    "        nrrow_remain = int(self.num_arrow) - 1\n",
    "        print(f\"Dear {self.email} you now have {nrrow_remain} arrows\")\n",
    "        self.num_arrow = nrrow_remain\n",
    "        \n",
    "sam = warrior('samuel', 'ayosamobitade@gmail.com', 20, 100)\n",
    "\n",
    "sam.attack()\n",
    "sam.attack()\n",
    "sam.attack()\n",
    "print(dir(sam))"
   ]
  },
  {
   "cell_type": "code",
   "execution_count": null,
   "metadata": {},
   "outputs": [],
   "source": []
  },
  {
   "cell_type": "code",
   "execution_count": null,
   "metadata": {},
   "outputs": [],
   "source": []
  },
  {
   "cell_type": "code",
   "execution_count": null,
   "metadata": {},
   "outputs": [],
   "source": []
  },
  {
   "cell_type": "code",
   "execution_count": null,
   "metadata": {},
   "outputs": [],
   "source": []
  }
 ],
 "metadata": {
  "kernelspec": {
   "display_name": "Python 3",
   "language": "python",
   "name": "python3"
  }
 },
 "nbformat": 4,
 "nbformat_minor": 4
}
