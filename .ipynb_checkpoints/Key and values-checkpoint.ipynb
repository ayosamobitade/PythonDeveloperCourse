{
 "cells": [
  {
   "cell_type": "code",
   "execution_count": 7,
   "metadata": {
    "scrolled": true
   },
   "outputs": [
    {
     "name": "stdout",
     "output_type": "stream",
     "text": [
      "name Sade Adenike\n",
      "age 29\n",
      "occupation teaching\n",
      "Sade Adenike\n",
      "29\n",
      "teaching\n",
      "name\n",
      "age\n",
      "occupation\n",
      "name Sade Adenike\n",
      "age 29\n",
      "occupation teaching\n"
     ]
    }
   ],
   "source": [
    "# practicing the use of keys and values\n",
    "\n",
    "user = {\n",
    "    \"name\":\"Sade Adenike\",\n",
    "    \"age\":29,\n",
    "    \"occupation\":\"teaching\"\n",
    "}\n",
    "\n",
    "for key, value in user.items():\n",
    "    print(key, value)\n",
    "    \n",
    "for values in user.values():\n",
    "    print(values)\n",
    "    \n",
    "for keys in user.keys():\n",
    "    print(keys)\n",
    "    \n",
    "# unbundling the user.item\n",
    "\n",
    "for items in user.items():\n",
    "    k, v = items\n",
    "    print(k,v)"
   ]
  },
  {
   "cell_type": "code",
   "execution_count": 27,
   "metadata": {},
   "outputs": [
    {
     "name": "stdout",
     "output_type": "stream",
     "text": [
      "attacking...\n",
      "You now have 19 arrows\n",
      "attacking...\n",
      "You now have 18 arrows\n",
      "attacking...\n",
      "You now have 17 arrows\n"
     ]
    }
   ],
   "source": [
    "# learnng to use decorator\n",
    "\n",
    "class killer:\n",
    "    def __init__(self, name, email, num_arrow, power):\n",
    "        self.name = name\n",
    "        self.email = email\n",
    "        self.num_arrow = num_arrow\n",
    "        self.power = power\n",
    "    \n",
    "    def attack(self):\n",
    "        print(\"attacking...\")\n",
    "        \n",
    "        nrrow_remain = int(self.num_arrow) - 1\n",
    "        print(f\"You now have {nrrow_remain} arrows\")\n",
    "        self.num_arrow = nrrow_remain\n",
    "        \n",
    "        \n",
    "sam = killer('samuel', 'ayosamobitade', 20, 100)\n",
    "\n",
    "sam.attack()\n",
    "sam.attack()\n",
    "sam.attack()"
   ]
  },
  {
   "cell_type": "code",
   "execution_count": null,
   "metadata": {},
   "outputs": [],
   "source": []
  }
 ],
 "metadata": {
  "kernelspec": {
   "display_name": "Python 3",
   "language": "python",
   "name": "python3"
  },
  "language_info": {
   "codemirror_mode": {
    "name": "ipython",
    "version": 3
   },
   "file_extension": ".py",
   "mimetype": "text/x-python",
   "name": "python",
   "nbconvert_exporter": "python",
   "pygments_lexer": "ipython3",
   "version": "3.7.6"
  }
 },
 "nbformat": 4,
 "nbformat_minor": 4
}
